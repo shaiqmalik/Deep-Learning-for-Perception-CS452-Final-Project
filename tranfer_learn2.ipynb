{
 "cells": [
  {
   "cell_type": "code",
   "execution_count": 1,
   "metadata": {},
   "outputs": [
    {
     "name": "stderr",
     "output_type": "stream",
     "text": [
      "Using TensorFlow backend.\n"
     ]
    }
   ],
   "source": [
    "import numpy as np\n",
    "from sklearn.preprocessing import LabelEncoder\n",
    "import pandas as pd\n",
    "import os\n",
    "from IPython.display import display\n",
    "import tensorflow as tf\n",
    "import math\n",
    "from keras.models import Sequential\n",
    "from keras.layers import Dense, Activation, Flatten\n",
    "from keras.utils import np_utils\n",
    "from keras import backend as K\n",
    "from keras.optimizers import Adam\n",
    "from keras.callbacks import ModelCheckpoint\n",
    "from matplotlib import pyplot as plt\n",
    "import matplotlib.image as mpimg\n",
    "%matplotlib inline\n",
    "from collections import defaultdict\n",
    "from keras.optimizers import Adam,SGD\n",
    "from keras.layers import Dense, Embedding, LSTM, GRU\n",
    "from keras import initializers\n",
    "from keras.applications.resnet50 import ResNet50, preprocess_input\n",
    "from keras.layers import GlobalAveragePooling2D\n",
    "#from sklearn.metrics import confusion_matrix, f1_score, precision_score, recall_scores\n",
    "from keras.models import Model\n",
    "from keras.callbacks import Callback\n",
    "from keras.layers import Conv2D, MaxPool2D\n",
    "from keras import regularizers"
   ]
  },
  {
   "cell_type": "code",
   "execution_count": 2,
   "metadata": {
    "collapsed": true
   },
   "outputs": [],
   "source": [
    "NB_IV3_LAYERS_TO_FREEZE=125"
   ]
  },
  {
   "cell_type": "code",
   "execution_count": 3,
   "metadata": {},
   "outputs": [
    {
     "name": "stdout",
     "output_type": "stream",
     "text": [
      "(161000, 220, 220, 3)\n",
      "(160000,)\n"
     ]
    }
   ],
   "source": [
    "load=np.load(\"setX0.npz\")\n",
    "temp=load['a']\n",
    "#temp=np.pad(temp,((0,0),(4,5),(4,5),(0,0)),mode='constant')\n",
    "Xtrain=temp\n",
    "ytrain=[]\n",
    "ytrain.extend(load['b'])\n",
    "#Xtrain=Xtrain[:39000]\n",
    "#print Xtrain.shape\n",
    "for i in range(1,5):\n",
    "    load=np.load(\"setX\"+str(i)+\".npz\")\n",
    "    temp=load['a']\n",
    "    #temp=np.pad(temp,((0,0),(4,5),(4,5),(0,0)),mode='constant')\n",
    "    Xtrain=np.vstack((Xtrain,temp))\n",
    "    ytrain.extend(load['b'])\n",
    "print Xtrain.shape\n",
    "ytrain=np.array(ytrain)\n",
    "print ytrain.shape"
   ]
  },
  {
   "cell_type": "code",
   "execution_count": 4,
   "metadata": {
    "collapsed": true
   },
   "outputs": [],
   "source": [
    "Xtrain=Xtrain[:160000]"
   ]
  },
  {
   "cell_type": "code",
   "execution_count": 5,
   "metadata": {},
   "outputs": [
    {
     "name": "stdout",
     "output_type": "stream",
     "text": [
      "(160000, 220, 220, 3)\n"
     ]
    }
   ],
   "source": [
    "print Xtrain.shape"
   ]
  },
  {
   "cell_type": "code",
   "execution_count": 6,
   "metadata": {},
   "outputs": [
    {
     "name": "stdout",
     "output_type": "stream",
     "text": [
      "(70, 2)\n",
      "['Books & Stationery', 'Strength Training Equipment', 'Hair Care', 'Outdoor Activities', 'Bedding', 'Cameras', 'Storage', 'Components & Spare Parts', 'Bath & Body', 'Personal Care', 'Peripherals & Accessories', 'Large Appliances', 'Small Appliances', 'Baby & Toddler', 'Video Games', 'Western Clothing', 'Lingerie & Sleepwear', \"Boys' Fashion\", 'Lighting', 'Winter Clothing', 'Shoes & Clothing', \"Babies' Fashion\", 'Audio & Video', \"Men's Shoes\", 'Home Improvements', 'Furniture', 'Fitness Accessories', 'Skin Care', 'Shoes', 'Gaming PC & Peripherals', 'Make up', 'Pakistani Clothing', \"Men's Accessories\", 'Kitchen & Dining', \"Girls' Fashion\", 'Western Clothing ', 'Fragrances', 'Mobile & Tablet Accessories', \"Men's Watches\", 'Toys & Games', 'Cooking Essentials', 'Health Care ', 'Home Decor', 'Accessories', 'Watches', 'Bath', 'Team Sports', 'Racket Sports', 'Winter Wear']\n",
      "49\n"
     ]
    }
   ],
   "source": [
    "counte=defaultdict(int)\n",
    "for i in ytrain:\n",
    "    counte[i]+=1\n",
    "items=counte.items()\n",
    "items=np.array(items)\n",
    "print items.shape\n",
    "keep_labels=[]\n",
    "for i,j in items:\n",
    "    #print j\n",
    "    if int(j)>1000:\n",
    "        #print j\n",
    "        keep_labels.append(i)\n",
    "print keep_labels\n",
    "print len(keep_labels)"
   ]
  },
  {
   "cell_type": "code",
   "execution_count": 7,
   "metadata": {},
   "outputs": [
    {
     "name": "stdout",
     "output_type": "stream",
     "text": [
      "149399\n"
     ]
    }
   ],
   "source": [
    "indexes=[]\n",
    "length=len(keep_labels)\n",
    "for i in range(length):\n",
    "    index=np.argwhere(keep_labels[i]==ytrain)\n",
    "    indexes.extend(index)\n",
    "print len(indexes)\n",
    "Xtrain=Xtrain[indexes]\n",
    "ytrain=ytrain[indexes]"
   ]
  },
  {
   "cell_type": "code",
   "execution_count": 8,
   "metadata": {
    "collapsed": true
   },
   "outputs": [],
   "source": [
    "unique_classes=len(np.unique(ytrain))"
   ]
  },
  {
   "cell_type": "code",
   "execution_count": 9,
   "metadata": {},
   "outputs": [
    {
     "name": "stdout",
     "output_type": "stream",
     "text": [
      "49\n"
     ]
    }
   ],
   "source": [
    "print unique_classes"
   ]
  },
  {
   "cell_type": "code",
   "execution_count": 10,
   "metadata": {},
   "outputs": [
    {
     "name": "stdout",
     "output_type": "stream",
     "text": [
      "<type 'list'>\n",
      "(149399, 1)\n"
     ]
    }
   ],
   "source": [
    "print type(keep_labels)\n",
    "print ytrain.shape\n",
    "ytrain=np.squeeze(ytrain)"
   ]
  },
  {
   "cell_type": "code",
   "execution_count": 11,
   "metadata": {},
   "outputs": [
    {
     "name": "stdout",
     "output_type": "stream",
     "text": [
      "49\n",
      "49\n",
      "['Accessories' 'Audio & Video' \"Babies' Fashion\" 'Baby & Toddler' 'Bath'\n",
      " 'Bath & Body' 'Bedding' 'Books & Stationery' \"Boys' Fashion\" 'Cameras'\n",
      " 'Components & Spare Parts' 'Cooking Essentials' 'Fitness Accessories'\n",
      " 'Fragrances' 'Furniture' 'Gaming PC & Peripherals' \"Girls' Fashion\"\n",
      " 'Hair Care' 'Health Care ' 'Home Decor' 'Home Improvements'\n",
      " 'Kitchen & Dining' 'Large Appliances' 'Lighting' 'Lingerie & Sleepwear'\n",
      " 'Make up' \"Men's Accessories\" \"Men's Shoes\" \"Men's Watches\"\n",
      " 'Mobile & Tablet Accessories' 'Outdoor Activities' 'Pakistani Clothing'\n",
      " 'Peripherals & Accessories' 'Personal Care' 'Racket Sports' 'Shoes'\n",
      " 'Shoes & Clothing' 'Skin Care' 'Small Appliances' 'Storage'\n",
      " 'Strength Training Equipment' 'Team Sports' 'Toys & Games' 'Video Games'\n",
      " 'Watches' 'Western Clothing' 'Western Clothing ' 'Winter Clothing'\n",
      " 'Winter Wear']\n",
      "['Accessories' 'Audio & Video' \"Babies' Fashion\" 'Baby & Toddler' 'Bath'\n",
      " 'Bath & Body' 'Bedding' 'Books & Stationery' \"Boys' Fashion\" 'Cameras'\n",
      " 'Components & Spare Parts' 'Cooking Essentials' 'Fitness Accessories'\n",
      " 'Fragrances' 'Furniture' 'Gaming PC & Peripherals' \"Girls' Fashion\"\n",
      " 'Hair Care' 'Health Care ' 'Home Decor' 'Home Improvements'\n",
      " 'Kitchen & Dining' 'Large Appliances' 'Lighting' 'Lingerie & Sleepwear'\n",
      " 'Make up' \"Men's Accessories\" \"Men's Shoes\" \"Men's Watches\"\n",
      " 'Mobile & Tablet Accessories' 'Outdoor Activities' 'Pakistani Clothing'\n",
      " 'Peripherals & Accessories' 'Personal Care' 'Racket Sports' 'Shoes'\n",
      " 'Shoes & Clothing' 'Skin Care' 'Small Appliances' 'Storage'\n",
      " 'Strength Training Equipment' 'Team Sports' 'Toys & Games' 'Video Games'\n",
      " 'Watches' 'Western Clothing' 'Western Clothing ' 'Winter Clothing'\n",
      " 'Winter Wear']\n",
      "[ 0.73628572  1.05354498  1.27252053  0.96212029  1.52830034  2.17938469\n",
      "  2.09262813  1.06681567  2.01384358  2.59265237  2.4707935   2.82834804\n",
      "  1.76036904  1.44295276  1.49458784  1.71966113  1.50938573  0.7108788\n",
      "  2.88181397  0.7355752   2.04353833  0.73046459  1.58717292  2.22877133\n",
      "  1.12135314  0.59283671  0.63164682  0.84858313  1.21909604  0.33802208\n",
      "  1.39412857  0.43463424  0.90205893  0.95309759  1.31194457  1.46937792\n",
      "  2.001943    1.44022635  0.55821296  2.60150101  1.18867804  1.41944096\n",
      "  0.24863077  1.07699017  2.54291842  0.54797972  0.55587223  1.14193228\n",
      "  1.02279745]\n"
     ]
    }
   ],
   "source": [
    "from sklearn.utils.class_weight import compute_class_weight\n",
    "print len(np.unique(ytrain))\n",
    "print len(keep_labels)\n",
    "print np.sort(np.unique(ytrain))\n",
    "print np.sort(keep_labels)\n",
    "weights=compute_class_weight('balanced',np.sort(keep_labels),np.sort(ytrain))\n",
    "print weights"
   ]
  },
  {
   "cell_type": "code",
   "execution_count": 12,
   "metadata": {},
   "outputs": [
    {
     "name": "stdout",
     "output_type": "stream",
     "text": [
      "{'Books & Stationery': 1.0668156695848388, 'Strength Training Equipment': 1.1886780443171421, \"Men's Shoes\": 0.84858312932743374, 'Bedding': 2.0926281288081463, 'Cameras': 2.5926523670692765, 'Storage': 2.6015010099602982, 'Accessories': 0.7362857241423495, 'Bath & Body': 2.1793846916893993, 'Hair Care': 0.71087880244193735, 'Peripherals & Accessories': 0.90205893008090809, 'Large Appliances': 1.5871729222662516, \"Men's Accessories\": 0.63164681658866162, 'Baby & Toddler': 0.96212028516045101, 'Video Games': 1.0769901743813033, 'Shoes & Clothing': 2.0019429965026063, \"Boys' Fashion\": 2.0138435823470737, 'Western Clothing': 0.54797972388092553, 'Audio & Video': 1.0535449839922146, 'Outdoor Activities': 1.3941285704954136, 'Personal Care': 0.95309758789417609, \"Babies' Fashion\": 1.2725205274096283, 'Lighting': 2.2287713330946413, 'Home Improvements': 2.0435383268588936, 'Furniture': 1.4945878351340536, 'Fitness Accessories': 1.7603690436913795, 'Winter Clothing': 1.1419322785293893, 'Skin Care': 1.4402263503417427, 'Gaming PC & Peripherals': 1.7196611301034797, 'Pakistani Clothing': 0.43463423858495642, 'Kitchen & Dining': 0.73046458640955181, \"Girls' Fashion\": 1.5093857344918165, 'Western Clothing ': 0.55587223038714118, 'Shoes': 1.4693779198426358, 'Fragrances': 1.4429527608487787, 'Mobile & Tablet Accessories': 0.33802208244716958, \"Men's Watches\": 1.2190960350553657, 'Health Care ': 2.8818139732263415, 'Toys & Games': 0.24863077417218213, 'Cooking Essentials': 2.8283480368028475, 'Small Appliances': 0.5582129592957652, 'Home Decor': 0.73557519509613256, 'Components & Spare Parts': 2.4707935037872524, 'Watches': 2.5429184184098994, 'Bath': 1.5283003426934683, 'Lingerie & Sleepwear': 1.1213531385338247, 'Make up': 0.5928367069168714, 'Team Sports': 1.4194409607418386, 'Racket Sports': 1.3119445712880677, 'Winter Wear': 1.0227974450430961}\n"
     ]
    }
   ],
   "source": [
    "importance={}\n",
    "keep_labels=np.sort(keep_labels)\n",
    "for idx,i in enumerate(keep_labels):\n",
    "    importance[i]=weights[idx]\n",
    "print importance"
   ]
  },
  {
   "cell_type": "code",
   "execution_count": 13,
   "metadata": {},
   "outputs": [
    {
     "name": "stdout",
     "output_type": "stream",
     "text": [
      "0.736285724142\n"
     ]
    }
   ],
   "source": [
    "print importance['Accessories']"
   ]
  },
  {
   "cell_type": "code",
   "execution_count": 14,
   "metadata": {},
   "outputs": [
    {
     "name": "stdout",
     "output_type": "stream",
     "text": [
      "{'Books & Stationery': 7, 'Strength Training Equipment': 40, \"Men's Shoes\": 27, 'Bedding': 6, 'Cameras': 9, 'Storage': 39, 'Accessories': 0, 'Bath & Body': 5, 'Hair Care': 17, 'Peripherals & Accessories': 32, 'Large Appliances': 22, \"Men's Accessories\": 26, 'Baby & Toddler': 3, 'Video Games': 43, 'Shoes & Clothing': 36, \"Boys' Fashion\": 8, 'Western Clothing': 45, 'Audio & Video': 1, 'Outdoor Activities': 30, 'Personal Care': 33, \"Babies' Fashion\": 2, 'Lighting': 23, 'Home Improvements': 20, 'Furniture': 14, 'Fitness Accessories': 12, 'Winter Clothing': 47, 'Skin Care': 37, 'Gaming PC & Peripherals': 15, 'Pakistani Clothing': 31, 'Kitchen & Dining': 21, \"Girls' Fashion\": 16, 'Western Clothing ': 46, 'Shoes': 35, 'Fragrances': 13, 'Mobile & Tablet Accessories': 29, \"Men's Watches\": 28, 'Health Care ': 18, 'Toys & Games': 42, 'Cooking Essentials': 11, 'Small Appliances': 38, 'Home Decor': 19, 'Components & Spare Parts': 10, 'Watches': 44, 'Bath': 4, 'Lingerie & Sleepwear': 24, 'Make up': 25, 'Team Sports': 41, 'Racket Sports': 34, 'Winter Wear': 48}\n",
      "{0: 0.7362857241423495, 1: 1.0535449839922146, 2: 1.2725205274096283, 3: 0.96212028516045101, 4: 1.5283003426934683, 5: 2.1793846916893993, 6: 2.0926281288081463, 7: 1.0668156695848388, 8: 2.0138435823470737, 9: 2.5926523670692765, 10: 2.4707935037872524, 11: 2.8283480368028475, 12: 1.7603690436913795, 13: 1.4429527608487787, 14: 1.4945878351340536, 15: 1.7196611301034797, 16: 1.5093857344918165, 17: 0.71087880244193735, 18: 2.8818139732263415, 19: 0.73557519509613256, 20: 2.0435383268588936, 21: 0.73046458640955181, 22: 1.5871729222662516, 23: 2.2287713330946413, 24: 1.1213531385338247, 25: 0.5928367069168714, 26: 0.63164681658866162, 27: 0.84858312932743374, 28: 1.2190960350553657, 29: 0.33802208244716958, 30: 1.3941285704954136, 31: 0.43463423858495642, 32: 0.90205893008090809, 33: 0.95309758789417609, 34: 1.3119445712880677, 35: 1.4693779198426358, 36: 2.0019429965026063, 37: 1.4402263503417427, 38: 0.5582129592957652, 39: 2.6015010099602982, 40: 1.1886780443171421, 41: 1.4194409607418386, 42: 0.24863077417218213, 43: 1.0769901743813033, 44: 2.5429184184098994, 45: 0.54797972388092553, 46: 0.55587223038714118, 47: 1.1419322785293893, 48: 1.0227974450430961}\n"
     ]
    }
   ],
   "source": [
    "labels=np.unique(ytrain)\n",
    "le=LabelEncoder()\n",
    "indexes=le.fit_transform(labels)\n",
    "mydict_labels={}\n",
    "temp={}\n",
    "for idx,i in enumerate(labels):\n",
    "    mydict_labels[i]=indexes[idx]\n",
    "    temp[indexes[idx]]=importance[i]\n",
    "print mydict_labels\n",
    "print temp"
   ]
  },
  {
   "cell_type": "code",
   "execution_count": 15,
   "metadata": {},
   "outputs": [
    {
     "name": "stdout",
     "output_type": "stream",
     "text": [
      "{0: 0.7362857241423495, 1: 1.0535449839922146, 2: 1.2725205274096283, 3: 0.96212028516045101, 4: 1.5283003426934683, 5: 2.1793846916893993, 6: 2.0926281288081463, 7: 1.0668156695848388, 8: 2.0138435823470737, 9: 2.5926523670692765, 10: 2.4707935037872524, 11: 2.8283480368028475, 12: 1.7603690436913795, 13: 1.4429527608487787, 14: 1.4945878351340536, 15: 1.7196611301034797, 16: 1.5093857344918165, 17: 0.71087880244193735, 18: 2.8818139732263415, 19: 0.73557519509613256, 20: 2.0435383268588936, 21: 0.73046458640955181, 22: 1.5871729222662516, 23: 2.2287713330946413, 24: 1.1213531385338247, 25: 0.5928367069168714, 26: 0.63164681658866162, 27: 0.84858312932743374, 28: 1.2190960350553657, 29: 0.33802208244716958, 30: 1.3941285704954136, 31: 0.43463423858495642, 32: 0.90205893008090809, 33: 0.95309758789417609, 34: 1.3119445712880677, 35: 1.4693779198426358, 36: 2.0019429965026063, 37: 1.4402263503417427, 38: 0.5582129592957652, 39: 2.6015010099602982, 40: 1.1886780443171421, 41: 1.4194409607418386, 42: 0.24863077417218213, 43: 1.0769901743813033, 44: 2.5429184184098994, 45: 0.54797972388092553, 46: 0.55587223038714118, 47: 1.1419322785293893, 48: 1.0227974450430961}\n"
     ]
    }
   ],
   "source": [
    "importance=temp.copy()\n",
    "print importance"
   ]
  },
  {
   "cell_type": "code",
   "execution_count": 16,
   "metadata": {},
   "outputs": [
    {
     "name": "stdout",
     "output_type": "stream",
     "text": [
      "[ 7  7  7 ..., 48 48 48]\n",
      "(149399,)\n"
     ]
    }
   ],
   "source": [
    "ytrain_=[]\n",
    "for i in range(ytrain.shape[0]):\n",
    "    ytrain_.append(mydict_labels[ytrain[i]])\n",
    "ytrain=np.array(ytrain_)\n",
    "print ytrain\n",
    "print ytrain.shape"
   ]
  },
  {
   "cell_type": "code",
   "execution_count": 17,
   "metadata": {},
   "outputs": [
    {
     "name": "stdout",
     "output_type": "stream",
     "text": [
      "2981\n",
      "14918\n",
      "134481\n"
     ]
    }
   ],
   "source": [
    "unique_labels=mydict_labels.values()\n",
    "length_unique_labels=len(unique_labels)\n",
    "temp1=[]\n",
    "temp2=[]\n",
    "length=0\n",
    "for i in range(length_unique_labels):\n",
    "    indexes=np.argwhere(unique_labels[i]==ytrain)\n",
    "    length=len(indexes)\n",
    "    index=np.arange(length)\n",
    "    np.random.shuffle(index)\n",
    "    indexes=indexes[index]\n",
    "    temp1.extend(indexes[:int(0.1*length)])\n",
    "    temp2.extend(indexes[int(0.1*length):])\n",
    "print length\n",
    "print len(temp1)\n",
    "print len(temp2)\n"
   ]
  },
  {
   "cell_type": "code",
   "execution_count": 18,
   "metadata": {},
   "outputs": [
    {
     "name": "stdout",
     "output_type": "stream",
     "text": [
      "(14918, 220, 220, 3)\n",
      "(134481, 220, 220, 3)\n",
      "(134481,)\n",
      "(14918,)\n"
     ]
    }
   ],
   "source": [
    "Xtest=Xtrain[temp1]\n",
    "ytest=ytrain[temp1]\n",
    "Xtrain=Xtrain[temp2]\n",
    "ytrain=ytrain[temp2]\n",
    "Xtrain=np.squeeze(Xtrain)\n",
    "Xtest=np.squeeze(Xtest)\n",
    "ytest=np.squeeze(ytest)\n",
    "ytrain=np.squeeze(ytrain)\n",
    "print Xtest.shape\n",
    "print Xtrain.shape\n",
    "print ytrain.shape\n",
    "print ytest.shape"
   ]
  },
  {
   "cell_type": "code",
   "execution_count": null,
   "metadata": {
    "collapsed": true
   },
   "outputs": [],
   "source": [
    "print \"saving 1\"\n",
    "np.savez_compressed(\"training1\",a=Xtrain[:70000],b=ytrain[:70000])\n",
    "np.savez_compressed(\"training2\",a=Xtrain[70000:],b=ytrain[70000:])\n",
    "print \"saving 1\"\n",
    "np.savez_compressed(\"validation\",a=Xtest,b=ytest)"
   ]
  },
  {
   "cell_type": "code",
   "execution_count": null,
   "metadata": {
    "collapsed": true
   },
   "outputs": [],
   "source": [
    "sample=[]\n",
    "for i in ytest:\n",
    "    imp=importance[i]\n",
    "    sample.append(imp)"
   ]
  },
  {
   "cell_type": "code",
   "execution_count": null,
   "metadata": {
    "collapsed": true
   },
   "outputs": [],
   "source": [
    "labels=[]\n",
    "for i in (ytrain):\n",
    "    zeros=np.zeros(unique_classes,dtype=np.int8)\n",
    "    zeros[i]=1\n",
    "    labels.append(zeros)\n",
    "ytrain=np.array(labels)\n",
    "\n",
    "print ytrain.shape\n",
    "labels=[]\n",
    "for i in (ytest):\n",
    "    zeros=np.zeros(unique_classes,dtype=np.int8)\n",
    "    zeros[i]=1\n",
    "    labels.append(zeros)\n",
    "ytest=np.array(labels)\n",
    "print ytest.shape"
   ]
  },
  {
   "cell_type": "code",
   "execution_count": 19,
   "metadata": {
    "collapsed": true
   },
   "outputs": [],
   "source": [
    "from keras.applications.resnet50 import ResNet50\n",
    "base_model=ResNet50(weights='imagenet', include_top=False)"
   ]
  },
  {
   "cell_type": "code",
   "execution_count": 20,
   "metadata": {
    "collapsed": true
   },
   "outputs": [],
   "source": [
    "def add_new_last_layer(base_model, nb_classes):\n",
    "    \"\"\"Add last layer to the convnet\n",
    "    Args:\n",
    "    base_model: keras model excluding top layer\n",
    "    nb_classes: number of classes\n",
    "    Returns:\n",
    "    new keras model with last fully connected layer\n",
    "    \"\"\"\n",
    "    FC_SIZE=1024\n",
    "    x = base_model.output\n",
    "    x = GlobalAveragePooling2D()(x)\n",
    "    x = Dense(FC_SIZE, activation='relu')(x) \n",
    "    predictions = Dense(nb_classes, activation='softmax')(x) \n",
    "    model = Model(input=base_model.input, output=predictions)\n",
    "    return model"
   ]
  },
  {
   "cell_type": "code",
   "execution_count": 21,
   "metadata": {
    "collapsed": true
   },
   "outputs": [],
   "source": [
    "def setup_to_transfer_learn(model, base_model):\n",
    "    \"\"\"Freeze all layers and compile the model\"\"\"\n",
    "    for layer in base_model.layers:\n",
    "        layer.trainable = False\n",
    "    adam=Adam(lr=1e-3, beta_1=0.9, beta_2=0.999, epsilon=1e-08)\n",
    "    model.compile(optimizer=adam,loss='categorical_crossentropy',metrics=['accuracy'])"
   ]
  },
  {
   "cell_type": "code",
   "execution_count": 22,
   "metadata": {
    "collapsed": true
   },
   "outputs": [],
   "source": [
    "def setup_to_finetune(model):\n",
    "    \"\"\"Freeze the bottom NB_IV3_LAYERS and retrain the remaining top \n",
    "      layers.\n",
    "    note: NB_IV3_LAYERS corresponds to the top 2 inception blocks in \n",
    "         the inceptionv3 architecture\n",
    "    Args:\n",
    "     model: keras model\n",
    "    \"\"\"\n",
    "    for layer in model.layers[:NB_IV3_LAYERS_TO_FREEZE]:\n",
    "        layer.trainable = False\n",
    "    for layer in model.layers[NB_IV3_LAYERS_TO_FREEZE:]:\n",
    "        layer.trainable = True\n",
    "    #model.compile(optimizer=SGD(lr=0.00001,momentum=0.9),loss='categorical_crossentropy')\n",
    "    adam=Adam(lr=3e-5, beta_1=0.9, beta_2=0.999, epsilon=1e-08,decay=0.1)\n",
    "    model.compile(optimizer=adam,loss='categorical_crossentropy',metrics=['accuracy'])"
   ]
  },
  {
   "cell_type": "code",
   "execution_count": 23,
   "metadata": {},
   "outputs": [
    {
     "name": "stdout",
     "output_type": "stream",
     "text": [
      "__________________________________________________________________________________________________\n",
      "Layer (type)                    Output Shape         Param #     Connected to                     \n",
      "==================================================================================================\n",
      "input_1 (InputLayer)            (None, None, None, 3 0                                            \n",
      "__________________________________________________________________________________________________\n",
      "conv1 (Conv2D)                  (None, None, None, 6 9472        input_1[0][0]                    \n",
      "__________________________________________________________________________________________________\n",
      "bn_conv1 (BatchNormalization)   (None, None, None, 6 256         conv1[0][0]                      \n",
      "__________________________________________________________________________________________________\n",
      "activation_1 (Activation)       (None, None, None, 6 0           bn_conv1[0][0]                   \n",
      "__________________________________________________________________________________________________\n",
      "max_pooling2d_1 (MaxPooling2D)  (None, None, None, 6 0           activation_1[0][0]               \n",
      "__________________________________________________________________________________________________\n",
      "res2a_branch2a (Conv2D)         (None, None, None, 6 4160        max_pooling2d_1[0][0]            \n",
      "__________________________________________________________________________________________________\n",
      "bn2a_branch2a (BatchNormalizati (None, None, None, 6 256         res2a_branch2a[0][0]             \n",
      "__________________________________________________________________________________________________\n",
      "activation_2 (Activation)       (None, None, None, 6 0           bn2a_branch2a[0][0]              \n",
      "__________________________________________________________________________________________________\n",
      "res2a_branch2b (Conv2D)         (None, None, None, 6 36928       activation_2[0][0]               \n",
      "__________________________________________________________________________________________________\n",
      "bn2a_branch2b (BatchNormalizati (None, None, None, 6 256         res2a_branch2b[0][0]             \n",
      "__________________________________________________________________________________________________\n",
      "activation_3 (Activation)       (None, None, None, 6 0           bn2a_branch2b[0][0]              \n",
      "__________________________________________________________________________________________________\n",
      "res2a_branch2c (Conv2D)         (None, None, None, 2 16640       activation_3[0][0]               \n",
      "__________________________________________________________________________________________________\n",
      "res2a_branch1 (Conv2D)          (None, None, None, 2 16640       max_pooling2d_1[0][0]            \n",
      "__________________________________________________________________________________________________\n",
      "bn2a_branch2c (BatchNormalizati (None, None, None, 2 1024        res2a_branch2c[0][0]             \n",
      "__________________________________________________________________________________________________\n",
      "bn2a_branch1 (BatchNormalizatio (None, None, None, 2 1024        res2a_branch1[0][0]              \n",
      "__________________________________________________________________________________________________\n",
      "add_1 (Add)                     (None, None, None, 2 0           bn2a_branch2c[0][0]              \n",
      "                                                                 bn2a_branch1[0][0]               \n",
      "__________________________________________________________________________________________________\n",
      "activation_4 (Activation)       (None, None, None, 2 0           add_1[0][0]                      \n",
      "__________________________________________________________________________________________________\n",
      "res2b_branch2a (Conv2D)         (None, None, None, 6 16448       activation_4[0][0]               \n",
      "__________________________________________________________________________________________________\n",
      "bn2b_branch2a (BatchNormalizati (None, None, None, 6 256         res2b_branch2a[0][0]             \n",
      "__________________________________________________________________________________________________\n",
      "activation_5 (Activation)       (None, None, None, 6 0           bn2b_branch2a[0][0]              \n",
      "__________________________________________________________________________________________________\n",
      "res2b_branch2b (Conv2D)         (None, None, None, 6 36928       activation_5[0][0]               \n",
      "__________________________________________________________________________________________________\n",
      "bn2b_branch2b (BatchNormalizati (None, None, None, 6 256         res2b_branch2b[0][0]             \n",
      "__________________________________________________________________________________________________\n",
      "activation_6 (Activation)       (None, None, None, 6 0           bn2b_branch2b[0][0]              \n",
      "__________________________________________________________________________________________________\n",
      "res2b_branch2c (Conv2D)         (None, None, None, 2 16640       activation_6[0][0]               \n",
      "__________________________________________________________________________________________________\n",
      "bn2b_branch2c (BatchNormalizati (None, None, None, 2 1024        res2b_branch2c[0][0]             \n",
      "__________________________________________________________________________________________________\n",
      "add_2 (Add)                     (None, None, None, 2 0           bn2b_branch2c[0][0]              \n",
      "                                                                 activation_4[0][0]               \n",
      "__________________________________________________________________________________________________\n",
      "activation_7 (Activation)       (None, None, None, 2 0           add_2[0][0]                      \n",
      "__________________________________________________________________________________________________\n",
      "res2c_branch2a (Conv2D)         (None, None, None, 6 16448       activation_7[0][0]               \n",
      "__________________________________________________________________________________________________\n",
      "bn2c_branch2a (BatchNormalizati (None, None, None, 6 256         res2c_branch2a[0][0]             \n",
      "__________________________________________________________________________________________________\n",
      "activation_8 (Activation)       (None, None, None, 6 0           bn2c_branch2a[0][0]              \n",
      "__________________________________________________________________________________________________\n",
      "res2c_branch2b (Conv2D)         (None, None, None, 6 36928       activation_8[0][0]               \n",
      "__________________________________________________________________________________________________\n",
      "bn2c_branch2b (BatchNormalizati (None, None, None, 6 256         res2c_branch2b[0][0]             \n",
      "__________________________________________________________________________________________________\n",
      "activation_9 (Activation)       (None, None, None, 6 0           bn2c_branch2b[0][0]              \n",
      "__________________________________________________________________________________________________\n",
      "res2c_branch2c (Conv2D)         (None, None, None, 2 16640       activation_9[0][0]               \n",
      "__________________________________________________________________________________________________\n",
      "bn2c_branch2c (BatchNormalizati (None, None, None, 2 1024        res2c_branch2c[0][0]             \n",
      "__________________________________________________________________________________________________\n",
      "add_3 (Add)                     (None, None, None, 2 0           bn2c_branch2c[0][0]              \n",
      "                                                                 activation_7[0][0]               \n",
      "__________________________________________________________________________________________________\n",
      "activation_10 (Activation)      (None, None, None, 2 0           add_3[0][0]                      \n",
      "__________________________________________________________________________________________________\n",
      "res3a_branch2a (Conv2D)         (None, None, None, 1 32896       activation_10[0][0]              \n",
      "__________________________________________________________________________________________________\n",
      "bn3a_branch2a (BatchNormalizati (None, None, None, 1 512         res3a_branch2a[0][0]             \n",
      "__________________________________________________________________________________________________\n",
      "activation_11 (Activation)      (None, None, None, 1 0           bn3a_branch2a[0][0]              \n",
      "__________________________________________________________________________________________________\n",
      "res3a_branch2b (Conv2D)         (None, None, None, 1 147584      activation_11[0][0]              \n",
      "__________________________________________________________________________________________________\n",
      "bn3a_branch2b (BatchNormalizati (None, None, None, 1 512         res3a_branch2b[0][0]             \n",
      "__________________________________________________________________________________________________\n",
      "activation_12 (Activation)      (None, None, None, 1 0           bn3a_branch2b[0][0]              \n",
      "__________________________________________________________________________________________________\n",
      "res3a_branch2c (Conv2D)         (None, None, None, 5 66048       activation_12[0][0]              \n",
      "__________________________________________________________________________________________________\n",
      "res3a_branch1 (Conv2D)          (None, None, None, 5 131584      activation_10[0][0]              \n",
      "__________________________________________________________________________________________________\n",
      "bn3a_branch2c (BatchNormalizati (None, None, None, 5 2048        res3a_branch2c[0][0]             \n",
      "__________________________________________________________________________________________________\n",
      "bn3a_branch1 (BatchNormalizatio (None, None, None, 5 2048        res3a_branch1[0][0]              \n",
      "__________________________________________________________________________________________________\n",
      "add_4 (Add)                     (None, None, None, 5 0           bn3a_branch2c[0][0]              \n",
      "                                                                 bn3a_branch1[0][0]               \n",
      "__________________________________________________________________________________________________\n",
      "activation_13 (Activation)      (None, None, None, 5 0           add_4[0][0]                      \n",
      "__________________________________________________________________________________________________\n",
      "res3b_branch2a (Conv2D)         (None, None, None, 1 65664       activation_13[0][0]              \n",
      "__________________________________________________________________________________________________\n",
      "bn3b_branch2a (BatchNormalizati (None, None, None, 1 512         res3b_branch2a[0][0]             \n",
      "__________________________________________________________________________________________________\n",
      "activation_14 (Activation)      (None, None, None, 1 0           bn3b_branch2a[0][0]              \n",
      "__________________________________________________________________________________________________\n",
      "res3b_branch2b (Conv2D)         (None, None, None, 1 147584      activation_14[0][0]              \n",
      "__________________________________________________________________________________________________\n",
      "bn3b_branch2b (BatchNormalizati (None, None, None, 1 512         res3b_branch2b[0][0]             \n",
      "__________________________________________________________________________________________________\n",
      "activation_15 (Activation)      (None, None, None, 1 0           bn3b_branch2b[0][0]              \n",
      "__________________________________________________________________________________________________\n",
      "res3b_branch2c (Conv2D)         (None, None, None, 5 66048       activation_15[0][0]              \n",
      "__________________________________________________________________________________________________\n",
      "bn3b_branch2c (BatchNormalizati (None, None, None, 5 2048        res3b_branch2c[0][0]             \n",
      "__________________________________________________________________________________________________\n",
      "add_5 (Add)                     (None, None, None, 5 0           bn3b_branch2c[0][0]              \n",
      "                                                                 activation_13[0][0]              \n",
      "__________________________________________________________________________________________________\n",
      "activation_16 (Activation)      (None, None, None, 5 0           add_5[0][0]                      \n",
      "__________________________________________________________________________________________________\n",
      "res3c_branch2a (Conv2D)         (None, None, None, 1 65664       activation_16[0][0]              \n",
      "__________________________________________________________________________________________________\n",
      "bn3c_branch2a (BatchNormalizati (None, None, None, 1 512         res3c_branch2a[0][0]             \n",
      "__________________________________________________________________________________________________\n",
      "activation_17 (Activation)      (None, None, None, 1 0           bn3c_branch2a[0][0]              \n",
      "__________________________________________________________________________________________________\n",
      "res3c_branch2b (Conv2D)         (None, None, None, 1 147584      activation_17[0][0]              \n",
      "__________________________________________________________________________________________________\n",
      "bn3c_branch2b (BatchNormalizati (None, None, None, 1 512         res3c_branch2b[0][0]             \n",
      "__________________________________________________________________________________________________\n",
      "activation_18 (Activation)      (None, None, None, 1 0           bn3c_branch2b[0][0]              \n",
      "__________________________________________________________________________________________________\n",
      "res3c_branch2c (Conv2D)         (None, None, None, 5 66048       activation_18[0][0]              \n",
      "__________________________________________________________________________________________________\n",
      "bn3c_branch2c (BatchNormalizati (None, None, None, 5 2048        res3c_branch2c[0][0]             \n",
      "__________________________________________________________________________________________________\n",
      "add_6 (Add)                     (None, None, None, 5 0           bn3c_branch2c[0][0]              \n",
      "                                                                 activation_16[0][0]              \n",
      "__________________________________________________________________________________________________\n",
      "activation_19 (Activation)      (None, None, None, 5 0           add_6[0][0]                      \n",
      "__________________________________________________________________________________________________\n",
      "res3d_branch2a (Conv2D)         (None, None, None, 1 65664       activation_19[0][0]              \n",
      "__________________________________________________________________________________________________\n",
      "bn3d_branch2a (BatchNormalizati (None, None, None, 1 512         res3d_branch2a[0][0]             \n",
      "__________________________________________________________________________________________________\n",
      "activation_20 (Activation)      (None, None, None, 1 0           bn3d_branch2a[0][0]              \n",
      "__________________________________________________________________________________________________\n",
      "res3d_branch2b (Conv2D)         (None, None, None, 1 147584      activation_20[0][0]              \n",
      "__________________________________________________________________________________________________\n",
      "bn3d_branch2b (BatchNormalizati (None, None, None, 1 512         res3d_branch2b[0][0]             \n",
      "__________________________________________________________________________________________________\n",
      "activation_21 (Activation)      (None, None, None, 1 0           bn3d_branch2b[0][0]              \n",
      "__________________________________________________________________________________________________\n",
      "res3d_branch2c (Conv2D)         (None, None, None, 5 66048       activation_21[0][0]              \n",
      "__________________________________________________________________________________________________\n",
      "bn3d_branch2c (BatchNormalizati (None, None, None, 5 2048        res3d_branch2c[0][0]             \n",
      "__________________________________________________________________________________________________\n",
      "add_7 (Add)                     (None, None, None, 5 0           bn3d_branch2c[0][0]              \n",
      "                                                                 activation_19[0][0]              \n",
      "__________________________________________________________________________________________________\n",
      "activation_22 (Activation)      (None, None, None, 5 0           add_7[0][0]                      \n",
      "__________________________________________________________________________________________________\n",
      "res4a_branch2a (Conv2D)         (None, None, None, 2 131328      activation_22[0][0]              \n",
      "__________________________________________________________________________________________________\n",
      "bn4a_branch2a (BatchNormalizati (None, None, None, 2 1024        res4a_branch2a[0][0]             \n",
      "__________________________________________________________________________________________________\n",
      "activation_23 (Activation)      (None, None, None, 2 0           bn4a_branch2a[0][0]              \n",
      "__________________________________________________________________________________________________\n",
      "res4a_branch2b (Conv2D)         (None, None, None, 2 590080      activation_23[0][0]              \n",
      "__________________________________________________________________________________________________\n",
      "bn4a_branch2b (BatchNormalizati (None, None, None, 2 1024        res4a_branch2b[0][0]             \n",
      "__________________________________________________________________________________________________\n",
      "activation_24 (Activation)      (None, None, None, 2 0           bn4a_branch2b[0][0]              \n",
      "__________________________________________________________________________________________________\n",
      "res4a_branch2c (Conv2D)         (None, None, None, 1 263168      activation_24[0][0]              \n",
      "__________________________________________________________________________________________________\n",
      "res4a_branch1 (Conv2D)          (None, None, None, 1 525312      activation_22[0][0]              \n",
      "__________________________________________________________________________________________________\n",
      "bn4a_branch2c (BatchNormalizati (None, None, None, 1 4096        res4a_branch2c[0][0]             \n",
      "__________________________________________________________________________________________________\n",
      "bn4a_branch1 (BatchNormalizatio (None, None, None, 1 4096        res4a_branch1[0][0]              \n",
      "__________________________________________________________________________________________________\n",
      "add_8 (Add)                     (None, None, None, 1 0           bn4a_branch2c[0][0]              \n",
      "                                                                 bn4a_branch1[0][0]               \n",
      "__________________________________________________________________________________________________\n",
      "activation_25 (Activation)      (None, None, None, 1 0           add_8[0][0]                      \n",
      "__________________________________________________________________________________________________\n",
      "res4b_branch2a (Conv2D)         (None, None, None, 2 262400      activation_25[0][0]              \n",
      "__________________________________________________________________________________________________\n",
      "bn4b_branch2a (BatchNormalizati (None, None, None, 2 1024        res4b_branch2a[0][0]             \n",
      "__________________________________________________________________________________________________\n",
      "activation_26 (Activation)      (None, None, None, 2 0           bn4b_branch2a[0][0]              \n",
      "__________________________________________________________________________________________________\n",
      "res4b_branch2b (Conv2D)         (None, None, None, 2 590080      activation_26[0][0]              \n",
      "__________________________________________________________________________________________________\n",
      "bn4b_branch2b (BatchNormalizati (None, None, None, 2 1024        res4b_branch2b[0][0]             \n",
      "__________________________________________________________________________________________________\n",
      "activation_27 (Activation)      (None, None, None, 2 0           bn4b_branch2b[0][0]              \n",
      "__________________________________________________________________________________________________\n",
      "res4b_branch2c (Conv2D)         (None, None, None, 1 263168      activation_27[0][0]              \n",
      "__________________________________________________________________________________________________\n",
      "bn4b_branch2c (BatchNormalizati (None, None, None, 1 4096        res4b_branch2c[0][0]             \n",
      "__________________________________________________________________________________________________\n",
      "add_9 (Add)                     (None, None, None, 1 0           bn4b_branch2c[0][0]              \n",
      "                                                                 activation_25[0][0]              \n",
      "__________________________________________________________________________________________________\n",
      "activation_28 (Activation)      (None, None, None, 1 0           add_9[0][0]                      \n",
      "__________________________________________________________________________________________________\n",
      "res4c_branch2a (Conv2D)         (None, None, None, 2 262400      activation_28[0][0]              \n",
      "__________________________________________________________________________________________________\n",
      "bn4c_branch2a (BatchNormalizati (None, None, None, 2 1024        res4c_branch2a[0][0]             \n",
      "__________________________________________________________________________________________________\n",
      "activation_29 (Activation)      (None, None, None, 2 0           bn4c_branch2a[0][0]              \n",
      "__________________________________________________________________________________________________\n",
      "res4c_branch2b (Conv2D)         (None, None, None, 2 590080      activation_29[0][0]              \n",
      "__________________________________________________________________________________________________\n",
      "bn4c_branch2b (BatchNormalizati (None, None, None, 2 1024        res4c_branch2b[0][0]             \n",
      "__________________________________________________________________________________________________\n",
      "activation_30 (Activation)      (None, None, None, 2 0           bn4c_branch2b[0][0]              \n",
      "__________________________________________________________________________________________________\n",
      "res4c_branch2c (Conv2D)         (None, None, None, 1 263168      activation_30[0][0]              \n",
      "__________________________________________________________________________________________________\n",
      "bn4c_branch2c (BatchNormalizati (None, None, None, 1 4096        res4c_branch2c[0][0]             \n",
      "__________________________________________________________________________________________________\n",
      "add_10 (Add)                    (None, None, None, 1 0           bn4c_branch2c[0][0]              \n",
      "                                                                 activation_28[0][0]              \n",
      "__________________________________________________________________________________________________\n",
      "activation_31 (Activation)      (None, None, None, 1 0           add_10[0][0]                     \n",
      "__________________________________________________________________________________________________\n",
      "res4d_branch2a (Conv2D)         (None, None, None, 2 262400      activation_31[0][0]              \n",
      "__________________________________________________________________________________________________\n",
      "bn4d_branch2a (BatchNormalizati (None, None, None, 2 1024        res4d_branch2a[0][0]             \n",
      "__________________________________________________________________________________________________\n",
      "activation_32 (Activation)      (None, None, None, 2 0           bn4d_branch2a[0][0]              \n",
      "__________________________________________________________________________________________________\n",
      "res4d_branch2b (Conv2D)         (None, None, None, 2 590080      activation_32[0][0]              \n",
      "__________________________________________________________________________________________________\n",
      "bn4d_branch2b (BatchNormalizati (None, None, None, 2 1024        res4d_branch2b[0][0]             \n",
      "__________________________________________________________________________________________________\n",
      "activation_33 (Activation)      (None, None, None, 2 0           bn4d_branch2b[0][0]              \n",
      "__________________________________________________________________________________________________\n",
      "res4d_branch2c (Conv2D)         (None, None, None, 1 263168      activation_33[0][0]              \n",
      "__________________________________________________________________________________________________\n",
      "bn4d_branch2c (BatchNormalizati (None, None, None, 1 4096        res4d_branch2c[0][0]             \n",
      "__________________________________________________________________________________________________\n",
      "add_11 (Add)                    (None, None, None, 1 0           bn4d_branch2c[0][0]              \n",
      "                                                                 activation_31[0][0]              \n",
      "__________________________________________________________________________________________________\n",
      "activation_34 (Activation)      (None, None, None, 1 0           add_11[0][0]                     \n",
      "__________________________________________________________________________________________________\n",
      "res4e_branch2a (Conv2D)         (None, None, None, 2 262400      activation_34[0][0]              \n",
      "__________________________________________________________________________________________________\n",
      "bn4e_branch2a (BatchNormalizati (None, None, None, 2 1024        res4e_branch2a[0][0]             \n",
      "__________________________________________________________________________________________________\n",
      "activation_35 (Activation)      (None, None, None, 2 0           bn4e_branch2a[0][0]              \n",
      "__________________________________________________________________________________________________\n",
      "res4e_branch2b (Conv2D)         (None, None, None, 2 590080      activation_35[0][0]              \n",
      "__________________________________________________________________________________________________\n",
      "bn4e_branch2b (BatchNormalizati (None, None, None, 2 1024        res4e_branch2b[0][0]             \n",
      "__________________________________________________________________________________________________\n",
      "activation_36 (Activation)      (None, None, None, 2 0           bn4e_branch2b[0][0]              \n",
      "__________________________________________________________________________________________________\n",
      "res4e_branch2c (Conv2D)         (None, None, None, 1 263168      activation_36[0][0]              \n",
      "__________________________________________________________________________________________________\n",
      "bn4e_branch2c (BatchNormalizati (None, None, None, 1 4096        res4e_branch2c[0][0]             \n",
      "__________________________________________________________________________________________________\n",
      "add_12 (Add)                    (None, None, None, 1 0           bn4e_branch2c[0][0]              \n",
      "                                                                 activation_34[0][0]              \n",
      "__________________________________________________________________________________________________\n",
      "activation_37 (Activation)      (None, None, None, 1 0           add_12[0][0]                     \n",
      "__________________________________________________________________________________________________\n",
      "res4f_branch2a (Conv2D)         (None, None, None, 2 262400      activation_37[0][0]              \n",
      "__________________________________________________________________________________________________\n",
      "bn4f_branch2a (BatchNormalizati (None, None, None, 2 1024        res4f_branch2a[0][0]             \n",
      "__________________________________________________________________________________________________\n",
      "activation_38 (Activation)      (None, None, None, 2 0           bn4f_branch2a[0][0]              \n",
      "__________________________________________________________________________________________________\n",
      "res4f_branch2b (Conv2D)         (None, None, None, 2 590080      activation_38[0][0]              \n",
      "__________________________________________________________________________________________________\n",
      "bn4f_branch2b (BatchNormalizati (None, None, None, 2 1024        res4f_branch2b[0][0]             \n",
      "__________________________________________________________________________________________________\n",
      "activation_39 (Activation)      (None, None, None, 2 0           bn4f_branch2b[0][0]              \n",
      "__________________________________________________________________________________________________\n",
      "res4f_branch2c (Conv2D)         (None, None, None, 1 263168      activation_39[0][0]              \n",
      "__________________________________________________________________________________________________\n",
      "bn4f_branch2c (BatchNormalizati (None, None, None, 1 4096        res4f_branch2c[0][0]             \n",
      "__________________________________________________________________________________________________\n",
      "add_13 (Add)                    (None, None, None, 1 0           bn4f_branch2c[0][0]              \n",
      "                                                                 activation_37[0][0]              \n",
      "__________________________________________________________________________________________________\n",
      "activation_40 (Activation)      (None, None, None, 1 0           add_13[0][0]                     \n",
      "__________________________________________________________________________________________________\n",
      "res5a_branch2a (Conv2D)         (None, None, None, 5 524800      activation_40[0][0]              \n",
      "__________________________________________________________________________________________________\n",
      "bn5a_branch2a (BatchNormalizati (None, None, None, 5 2048        res5a_branch2a[0][0]             \n",
      "__________________________________________________________________________________________________\n",
      "activation_41 (Activation)      (None, None, None, 5 0           bn5a_branch2a[0][0]              \n",
      "__________________________________________________________________________________________________\n",
      "res5a_branch2b (Conv2D)         (None, None, None, 5 2359808     activation_41[0][0]              \n",
      "__________________________________________________________________________________________________\n",
      "bn5a_branch2b (BatchNormalizati (None, None, None, 5 2048        res5a_branch2b[0][0]             \n",
      "__________________________________________________________________________________________________\n",
      "activation_42 (Activation)      (None, None, None, 5 0           bn5a_branch2b[0][0]              \n",
      "__________________________________________________________________________________________________\n",
      "res5a_branch2c (Conv2D)         (None, None, None, 2 1050624     activation_42[0][0]              \n",
      "__________________________________________________________________________________________________\n",
      "res5a_branch1 (Conv2D)          (None, None, None, 2 2099200     activation_40[0][0]              \n",
      "__________________________________________________________________________________________________\n",
      "bn5a_branch2c (BatchNormalizati (None, None, None, 2 8192        res5a_branch2c[0][0]             \n",
      "__________________________________________________________________________________________________\n",
      "bn5a_branch1 (BatchNormalizatio (None, None, None, 2 8192        res5a_branch1[0][0]              \n",
      "__________________________________________________________________________________________________\n",
      "add_14 (Add)                    (None, None, None, 2 0           bn5a_branch2c[0][0]              \n",
      "                                                                 bn5a_branch1[0][0]               \n",
      "__________________________________________________________________________________________________\n",
      "activation_43 (Activation)      (None, None, None, 2 0           add_14[0][0]                     \n",
      "__________________________________________________________________________________________________\n",
      "res5b_branch2a (Conv2D)         (None, None, None, 5 1049088     activation_43[0][0]              \n",
      "__________________________________________________________________________________________________\n",
      "bn5b_branch2a (BatchNormalizati (None, None, None, 5 2048        res5b_branch2a[0][0]             \n",
      "__________________________________________________________________________________________________\n",
      "activation_44 (Activation)      (None, None, None, 5 0           bn5b_branch2a[0][0]              \n",
      "__________________________________________________________________________________________________\n",
      "res5b_branch2b (Conv2D)         (None, None, None, 5 2359808     activation_44[0][0]              \n",
      "__________________________________________________________________________________________________\n",
      "bn5b_branch2b (BatchNormalizati (None, None, None, 5 2048        res5b_branch2b[0][0]             \n",
      "__________________________________________________________________________________________________\n",
      "activation_45 (Activation)      (None, None, None, 5 0           bn5b_branch2b[0][0]              \n",
      "__________________________________________________________________________________________________\n",
      "res5b_branch2c (Conv2D)         (None, None, None, 2 1050624     activation_45[0][0]              \n",
      "__________________________________________________________________________________________________\n",
      "bn5b_branch2c (BatchNormalizati (None, None, None, 2 8192        res5b_branch2c[0][0]             \n",
      "__________________________________________________________________________________________________\n",
      "add_15 (Add)                    (None, None, None, 2 0           bn5b_branch2c[0][0]              \n",
      "                                                                 activation_43[0][0]              \n",
      "__________________________________________________________________________________________________\n",
      "activation_46 (Activation)      (None, None, None, 2 0           add_15[0][0]                     \n",
      "__________________________________________________________________________________________________\n",
      "res5c_branch2a (Conv2D)         (None, None, None, 5 1049088     activation_46[0][0]              \n",
      "__________________________________________________________________________________________________\n",
      "bn5c_branch2a (BatchNormalizati (None, None, None, 5 2048        res5c_branch2a[0][0]             \n",
      "__________________________________________________________________________________________________\n",
      "activation_47 (Activation)      (None, None, None, 5 0           bn5c_branch2a[0][0]              \n",
      "__________________________________________________________________________________________________\n",
      "res5c_branch2b (Conv2D)         (None, None, None, 5 2359808     activation_47[0][0]              \n",
      "__________________________________________________________________________________________________\n",
      "bn5c_branch2b (BatchNormalizati (None, None, None, 5 2048        res5c_branch2b[0][0]             \n",
      "__________________________________________________________________________________________________\n",
      "activation_48 (Activation)      (None, None, None, 5 0           bn5c_branch2b[0][0]              \n",
      "__________________________________________________________________________________________________\n",
      "res5c_branch2c (Conv2D)         (None, None, None, 2 1050624     activation_48[0][0]              \n",
      "__________________________________________________________________________________________________\n",
      "bn5c_branch2c (BatchNormalizati (None, None, None, 2 8192        res5c_branch2c[0][0]             \n",
      "__________________________________________________________________________________________________\n",
      "add_16 (Add)                    (None, None, None, 2 0           bn5c_branch2c[0][0]              \n",
      "                                                                 activation_46[0][0]              \n",
      "__________________________________________________________________________________________________\n",
      "activation_49 (Activation)      (None, None, None, 2 0           add_16[0][0]                     \n",
      "__________________________________________________________________________________________________\n",
      "avg_pool (AveragePooling2D)     (None, None, None, 2 0           activation_49[0][0]              \n",
      "__________________________________________________________________________________________________\n",
      "global_average_pooling2d_1 (Glo (None, 2048)         0           avg_pool[0][0]                   \n",
      "__________________________________________________________________________________________________\n",
      "dense_1 (Dense)                 (None, 1024)         2098176     global_average_pooling2d_1[0][0] \n",
      "__________________________________________________________________________________________________\n",
      "dense_2 (Dense)                 (None, 49)           50225       dense_1[0][0]                    \n",
      "==================================================================================================\n",
      "Total params: 25,736,113\n",
      "Trainable params: 18,508,849\n",
      "Non-trainable params: 7,227,264\n",
      "__________________________________________________________________________________________________\n"
     ]
    },
    {
     "name": "stderr",
     "output_type": "stream",
     "text": [
      "/home/i140069/anaconda2/lib/python2.7/site-packages/ipykernel_launcher.py:14: UserWarning: Update your `Model` call to the Keras 2 API: `Model(outputs=Tensor(\"de..., inputs=Tensor(\"in...)`\n",
      "  \n"
     ]
    }
   ],
   "source": [
    "model=add_new_last_layer(base_model,49)\n",
    "#setup_to_transfer_learn(model,base_model)\n",
    "setup_to_finetune(model)\n",
    "model.summary()"
   ]
  },
  {
   "cell_type": "code",
   "execution_count": 24,
   "metadata": {
    "collapsed": true
   },
   "outputs": [],
   "source": [
    "filepath=\"_weights-improvement-{epoch:02d}-{loss:.4f}.hdf5\"\n",
    "checkpoint = ModelCheckpoint(filepath, monitor='val_loss', verbose=1, save_best_only=True, mode='min')\n",
    "callbacks_list = [checkpoint]"
   ]
  },
  {
   "cell_type": "code",
   "execution_count": null,
   "metadata": {
    "collapsed": true
   },
   "outputs": [],
   "source": [
    "sample=np.array(sample)\n",
    "sample=np.squeeze(sample)"
   ]
  },
  {
   "cell_type": "code",
   "execution_count": 25,
   "metadata": {
    "collapsed": true
   },
   "outputs": [],
   "source": [
    "model.load_weights(\"_weights-improvement-02-1.2280.hdf5\")"
   ]
  },
  {
   "cell_type": "code",
   "execution_count": null,
   "metadata": {
    "collapsed": true
   },
   "outputs": [],
   "source": [
    "res=model.fit(Xtrain,ytrain,batch_size=128,epochs=5,validation_data=(Xtest,ytest),callbacks=callbacks_list,\n",
    "              class_weight=importance)"
   ]
  },
  {
   "cell_type": "code",
   "execution_count": 26,
   "metadata": {},
   "outputs": [
    {
     "name": "stdout",
     "output_type": "stream",
     "text": [
      "(14918, 49)\n"
     ]
    }
   ],
   "source": [
    "predictions=model.predict(Xtest)\n",
    "indexes=np.argsort(predictions)\n",
    "print indexes.shape"
   ]
  },
  {
   "cell_type": "code",
   "execution_count": 32,
   "metadata": {},
   "outputs": [
    {
     "name": "stdout",
     "output_type": "stream",
     "text": [
      "(14918, 5)\n"
     ]
    }
   ],
   "source": [
    "temp=indexes[:,44:]\n",
    "print temp.shape"
   ]
  },
  {
   "cell_type": "code",
   "execution_count": 33,
   "metadata": {},
   "outputs": [
    {
     "name": "stdout",
     "output_type": "stream",
     "text": [
      "[ 7  7  7 ..., 48 48 48]\n"
     ]
    }
   ],
   "source": [
    "print ytest"
   ]
  },
  {
   "cell_type": "code",
   "execution_count": 34,
   "metadata": {},
   "outputs": [
    {
     "name": "stdout",
     "output_type": "stream",
     "text": [
      "[[17 22 42 29  7]\n",
      " [16  3 11 42  2]\n",
      " [46  4  0 19  7]\n",
      " ..., \n",
      " [27 48  0 31 46]\n",
      " [35 31 27 48 46]\n",
      " [28 31 46 27 48]]\n"
     ]
    }
   ],
   "source": [
    "print temp"
   ]
  },
  {
   "cell_type": "code",
   "execution_count": 35,
   "metadata": {},
   "outputs": [
    {
     "name": "stdout",
     "output_type": "stream",
     "text": [
      "12382\n"
     ]
    }
   ],
   "source": [
    "counter=0\n",
    "for i in range(ytest.shape[0]):\n",
    "    if ytest[i] in temp[i]:\n",
    "        counter+=1\n",
    "print counter"
   ]
  },
  {
   "cell_type": "code",
   "execution_count": 36,
   "metadata": {},
   "outputs": [
    {
     "name": "stdout",
     "output_type": "stream",
     "text": [
      "acuuracy =  83.0004021987\n"
     ]
    }
   ],
   "source": [
    "print \"acuuracy = \",counter/float(ytest.shape[0])*100"
   ]
  },
  {
   "cell_type": "code",
   "execution_count": null,
   "metadata": {
    "collapsed": true
   },
   "outputs": [],
   "source": []
  }
 ],
 "metadata": {
  "kernelspec": {
   "display_name": "Python 2",
   "language": "python",
   "name": "python2"
  },
  "language_info": {
   "codemirror_mode": {
    "name": "ipython",
    "version": 2
   },
   "file_extension": ".py",
   "mimetype": "text/x-python",
   "name": "python",
   "nbconvert_exporter": "python",
   "pygments_lexer": "ipython2",
   "version": "2.7.13"
  }
 },
 "nbformat": 4,
 "nbformat_minor": 2
}
